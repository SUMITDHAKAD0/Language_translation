{
  "cells": [
    {
      "cell_type": "markdown",
      "metadata": {
        "id": "qj1TFwgyWiM_"
      },
      "source": [
        "#Using GoogleTrans library"
      ]
    },
    {
      "cell_type": "code",
      "execution_count": null,
      "metadata": {
        "id": "nTyOw0cgEkPy"
      },
      "outputs": [],
      "source": [
        "from googletrans import Translator, LANGUAGES"
      ]
    },
    {
      "cell_type": "markdown",
      "metadata": {
        "id": "e_U7dgRNGJ-I"
      },
      "source": [
        "# that many language support"
      ]
    },
    {
      "cell_type": "code",
      "execution_count": null,
      "metadata": {
        "colab": {
          "base_uri": "https://localhost:8080/"
        },
        "id": "6Ci67orF3K-y",
        "outputId": "0f4d96c2-d62f-45ce-fb67-6ce4fee41999"
      },
      "outputs": [
        {
          "data": {
            "text/plain": [
              "{'af': 'afrikaans',\n",
              " 'sq': 'albanian',\n",
              " 'am': 'amharic',\n",
              " 'ar': 'arabic',\n",
              " 'hy': 'armenian',\n",
              " 'az': 'azerbaijani',\n",
              " 'eu': 'basque',\n",
              " 'be': 'belarusian',\n",
              " 'bn': 'bengali',\n",
              " 'bs': 'bosnian',\n",
              " 'bg': 'bulgarian',\n",
              " 'ca': 'catalan',\n",
              " 'ceb': 'cebuano',\n",
              " 'ny': 'chichewa',\n",
              " 'zh-cn': 'chinese (simplified)',\n",
              " 'zh-tw': 'chinese (traditional)',\n",
              " 'co': 'corsican',\n",
              " 'hr': 'croatian',\n",
              " 'cs': 'czech',\n",
              " 'da': 'danish',\n",
              " 'nl': 'dutch',\n",
              " 'en': 'english',\n",
              " 'eo': 'esperanto',\n",
              " 'et': 'estonian',\n",
              " 'tl': 'filipino',\n",
              " 'fi': 'finnish',\n",
              " 'fr': 'french',\n",
              " 'fy': 'frisian',\n",
              " 'gl': 'galician',\n",
              " 'ka': 'georgian',\n",
              " 'de': 'german',\n",
              " 'el': 'greek',\n",
              " 'gu': 'gujarati',\n",
              " 'ht': 'haitian creole',\n",
              " 'ha': 'hausa',\n",
              " 'haw': 'hawaiian',\n",
              " 'iw': 'hebrew',\n",
              " 'he': 'hebrew',\n",
              " 'hi': 'hindi',\n",
              " 'hmn': 'hmong',\n",
              " 'hu': 'hungarian',\n",
              " 'is': 'icelandic',\n",
              " 'ig': 'igbo',\n",
              " 'id': 'indonesian',\n",
              " 'ga': 'irish',\n",
              " 'it': 'italian',\n",
              " 'ja': 'japanese',\n",
              " 'jw': 'javanese',\n",
              " 'kn': 'kannada',\n",
              " 'kk': 'kazakh',\n",
              " 'km': 'khmer',\n",
              " 'ko': 'korean',\n",
              " 'ku': 'kurdish (kurmanji)',\n",
              " 'ky': 'kyrgyz',\n",
              " 'lo': 'lao',\n",
              " 'la': 'latin',\n",
              " 'lv': 'latvian',\n",
              " 'lt': 'lithuanian',\n",
              " 'lb': 'luxembourgish',\n",
              " 'mk': 'macedonian',\n",
              " 'mg': 'malagasy',\n",
              " 'ms': 'malay',\n",
              " 'ml': 'malayalam',\n",
              " 'mt': 'maltese',\n",
              " 'mi': 'maori',\n",
              " 'mr': 'marathi',\n",
              " 'mn': 'mongolian',\n",
              " 'my': 'myanmar (burmese)',\n",
              " 'ne': 'nepali',\n",
              " 'no': 'norwegian',\n",
              " 'or': 'odia',\n",
              " 'ps': 'pashto',\n",
              " 'fa': 'persian',\n",
              " 'pl': 'polish',\n",
              " 'pt': 'portuguese',\n",
              " 'pa': 'punjabi',\n",
              " 'ro': 'romanian',\n",
              " 'ru': 'russian',\n",
              " 'sm': 'samoan',\n",
              " 'gd': 'scots gaelic',\n",
              " 'sr': 'serbian',\n",
              " 'st': 'sesotho',\n",
              " 'sn': 'shona',\n",
              " 'sd': 'sindhi',\n",
              " 'si': 'sinhala',\n",
              " 'sk': 'slovak',\n",
              " 'sl': 'slovenian',\n",
              " 'so': 'somali',\n",
              " 'es': 'spanish',\n",
              " 'su': 'sundanese',\n",
              " 'sw': 'swahili',\n",
              " 'sv': 'swedish',\n",
              " 'tg': 'tajik',\n",
              " 'ta': 'tamil',\n",
              " 'te': 'telugu',\n",
              " 'th': 'thai',\n",
              " 'tr': 'turkish',\n",
              " 'uk': 'ukrainian',\n",
              " 'ur': 'urdu',\n",
              " 'ug': 'uyghur',\n",
              " 'uz': 'uzbek',\n",
              " 'vi': 'vietnamese',\n",
              " 'cy': 'welsh',\n",
              " 'xh': 'xhosa',\n",
              " 'yi': 'yiddish',\n",
              " 'yo': 'yoruba',\n",
              " 'zu': 'zulu'}"
            ]
          },
          "execution_count": 12,
          "metadata": {},
          "output_type": "execute_result"
        }
      ],
      "source": [
        "lang1 = LANGUAGES.values()\n",
        "lang1 = LANGUAGES\n",
        "lang1"
      ]
    },
    {
      "cell_type": "code",
      "execution_count": null,
      "metadata": {
        "id": "qO3J-VDfKUa-"
      },
      "outputs": [],
      "source": [
        "lang = LANGUAGES['hi']\n",
        "source_lang = LANGUAGES['en']"
      ]
    },
    {
      "cell_type": "code",
      "execution_count": null,
      "metadata": {
        "id": "neEmwddJLD8O"
      },
      "outputs": [],
      "source": [
        "# create translation object\n",
        "translator = Translator()"
      ]
    },
    {
      "cell_type": "code",
      "execution_count": null,
      "metadata": {
        "colab": {
          "base_uri": "https://localhost:8080/"
        },
        "id": "N3MR6dskLFOC",
        "outputId": "e66bf4f8-cb78-4e4e-9fec-815e64413aed"
      },
      "outputs": [
        {
          "name": "stdout",
          "output_type": "stream",
          "text": [
            "Translated(src=en, dest=hi, text=आप कौन हैं?, pronunciation=aap kaun hain?, extra_data=\"{'translat...\")\n"
          ]
        }
      ],
      "source": [
        "# translate\n",
        "print(translator.translate('Who are you?', sorc=source_lang, dest= lang))"
      ]
    },
    {
      "cell_type": "code",
      "execution_count": null,
      "metadata": {
        "id": "ma7zOKyvNZ92"
      },
      "outputs": [],
      "source": [
        "def eng_to_hindi(text):\n",
        "  dest_lang = LANGUAGES['hi']\n",
        "  translator = Translator()\n",
        "  response = translator.translate(text, dest= lang).text\n",
        "  return response"
      ]
    },
    {
      "cell_type": "code",
      "execution_count": null,
      "metadata": {
        "colab": {
          "base_uri": "https://localhost:8080/",
          "height": 54
        },
        "id": "qaGvGIk9RsnK",
        "outputId": "850a5188-d8e2-4a9c-c19e-ff1d53feed73"
      },
      "outputs": [
        {
          "data": {
            "application/vnd.google.colaboratory.intrinsic+json": {
              "type": "string"
            },
            "text/plain": [
              "'आप पीडीएफ फाइलों को पढ़ने और उन्हें टुकड़ों में विभाजित करने के लिए पायथन में PyPDF2 लाइब्रेरी का उपयोग कर सकते हैं। यहां एक नमूना कोड है जो दर्शाता है कि इसे कैसे प्राप्त किया जाए'"
            ]
          },
          "execution_count": 11,
          "metadata": {},
          "output_type": "execute_result"
        }
      ],
      "source": [
        "# text = 'hey, how are you'\n",
        "text = '''You can use the PyPDF2 library in Python to read PDF files and split them into chunks. Here's a sample code that demonstrates how to achieve this'''\n",
        "\n",
        "eng_to_hindi(text)"
      ]
    },
    {
      "cell_type": "code",
      "execution_count": null,
      "metadata": {
        "id": "gIiapffsW1ea"
      },
      "outputs": [],
      "source": []
    },
    {
      "cell_type": "code",
      "execution_count": null,
      "metadata": {
        "id": "bFgvibFwVIqZ"
      },
      "outputs": [],
      "source": []
    }
  ],
  "metadata": {
    "accelerator": "GPU",
    "colab": {
      "gpuType": "T4",
      "provenance": []
    },
    "kernelspec": {
      "display_name": "Python 3",
      "name": "python3"
    },
    "language_info": {
      "name": "python"
    }
  },
  "nbformat": 4,
  "nbformat_minor": 0
}
